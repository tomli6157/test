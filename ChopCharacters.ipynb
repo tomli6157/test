{
 "cells": [
  {
   "cell_type": "code",
   "execution_count": 1,
   "metadata": {
    "collapsed": false
   },
   "outputs": [],
   "source": [
    "import glob\n",
    "import re"
   ]
  },sdafsdaf
  {
   "cell_type": "code",
   "execution_count": 2,
   "metadata": {
    "collapsed": false
   },
   "outputs": [],
   "source": [
    "filelist = glob.glob('DC-*.ipynb')\n",
    "\n",
    "for filename in filelist:\n",
    "    with open(filename, 'r+', encoding='utf-8') as f:\n",
    "        s = f.read()\n",
    "        s = re.sub(\"    \\\"# Append EOF\", \"    \\\"dc.utils.chopCharacters(outdf)\\\\\\\\n\\\",\\n    \\\"\\\\\\\\n\\\",\\n    \\\"# Append EOF\", s)\n",
    "        f.seek(0)\n",
    "        f.write(s)"
   ]
  }
 ],
 "metadata": {
  "kernelspec": {
   "display_name": "Python 3",
   "language": "python",
   "name": "python3"
  },
  "language_info": {
   "codemirror_mode": {
    "name": "ipython",
    "version": 3
   },
   "file_extension": ".py",
   "mimetype": "text/x-python",
   "name": "python",
   "nbconvert_exporter": "python",
   "pygments_lexer": "ipython3",
   "version": "3.4.3"
  }
 },
 "nbformat": 4,
 "nbformat_minor": 0
}
